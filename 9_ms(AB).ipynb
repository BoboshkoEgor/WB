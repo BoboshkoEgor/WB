{
 "cells": [
  {
   "cell_type": "code",
   "execution_count": 13,
   "id": "2fd7aac1-d20d-4aef-8188-52584d6c3ca9",
   "metadata": {},
   "outputs": [],
   "source": [
    "import numpy as np\n",
    "import scipy\n",
    "import pandas as pd\n",
    "import matplotlib.pyplot as plt\n",
    "import seaborn as sns\n",
    "import datetime\n",
    "import random\n",
    "pd.options.mode.chained_assignment = None\n",
    "import statsmodels as sm\n",
    "import statsmodels.api as sm1"
   ]
  },
  {
   "cell_type": "markdown",
   "id": "c48f9244-2e87-45fc-8a0d-6244ac76ee0e",
   "metadata": {},
   "source": [
    "## 0.1 Импорт"
   ]
  },
  {
   "cell_type": "code",
   "execution_count": 2,
   "id": "1dd7c129-1f1e-402d-8cd8-e8569f657006",
   "metadata": {},
   "outputs": [],
   "source": [
    "df = pd.read_csv(\"Z:/WB/DATASETS/AB_lesson4.csv\", sep=',', encoding='utf-8')"
   ]
  },
  {
   "cell_type": "code",
   "execution_count": 3,
   "id": "7673a47c-ec5a-4361-bdd2-17f29a419f88",
   "metadata": {},
   "outputs": [
    {
     "data": {
      "text/html": [
       "<div>\n",
       "<style scoped>\n",
       "    .dataframe tbody tr th:only-of-type {\n",
       "        vertical-align: middle;\n",
       "    }\n",
       "\n",
       "    .dataframe tbody tr th {\n",
       "        vertical-align: top;\n",
       "    }\n",
       "\n",
       "    .dataframe thead th {\n",
       "        text-align: right;\n",
       "    }\n",
       "</style>\n",
       "<table border=\"1\" class=\"dataframe\">\n",
       "  <thead>\n",
       "    <tr style=\"text-align: right;\">\n",
       "      <th></th>\n",
       "      <th>id</th>\n",
       "      <th>group</th>\n",
       "      <th>events</th>\n",
       "    </tr>\n",
       "  </thead>\n",
       "  <tbody>\n",
       "    <tr>\n",
       "      <th>0</th>\n",
       "      <td>16046</td>\n",
       "      <td>A</td>\n",
       "      <td>14</td>\n",
       "    </tr>\n",
       "    <tr>\n",
       "      <th>1</th>\n",
       "      <td>18712</td>\n",
       "      <td>A</td>\n",
       "      <td>41</td>\n",
       "    </tr>\n",
       "    <tr>\n",
       "      <th>2</th>\n",
       "      <td>3268</td>\n",
       "      <td>A</td>\n",
       "      <td>30</td>\n",
       "    </tr>\n",
       "    <tr>\n",
       "      <th>3</th>\n",
       "      <td>22633</td>\n",
       "      <td>A</td>\n",
       "      <td>37</td>\n",
       "    </tr>\n",
       "    <tr>\n",
       "      <th>4</th>\n",
       "      <td>28071</td>\n",
       "      <td>A</td>\n",
       "      <td>38</td>\n",
       "    </tr>\n",
       "    <tr>\n",
       "      <th>...</th>\n",
       "      <td>...</td>\n",
       "      <td>...</td>\n",
       "      <td>...</td>\n",
       "    </tr>\n",
       "    <tr>\n",
       "      <th>29995</th>\n",
       "      <td>22932</td>\n",
       "      <td>C</td>\n",
       "      <td>38</td>\n",
       "    </tr>\n",
       "    <tr>\n",
       "      <th>29996</th>\n",
       "      <td>21787</td>\n",
       "      <td>C</td>\n",
       "      <td>25</td>\n",
       "    </tr>\n",
       "    <tr>\n",
       "      <th>29997</th>\n",
       "      <td>5054</td>\n",
       "      <td>C</td>\n",
       "      <td>34</td>\n",
       "    </tr>\n",
       "    <tr>\n",
       "      <th>29998</th>\n",
       "      <td>10254</td>\n",
       "      <td>C</td>\n",
       "      <td>27</td>\n",
       "    </tr>\n",
       "    <tr>\n",
       "      <th>29999</th>\n",
       "      <td>5692</td>\n",
       "      <td>C</td>\n",
       "      <td>49</td>\n",
       "    </tr>\n",
       "  </tbody>\n",
       "</table>\n",
       "<p>30000 rows × 3 columns</p>\n",
       "</div>"
      ],
      "text/plain": [
       "          id group  events\n",
       "0      16046     A      14\n",
       "1      18712     A      41\n",
       "2       3268     A      30\n",
       "3      22633     A      37\n",
       "4      28071     A      38\n",
       "...      ...   ...     ...\n",
       "29995  22932     C      38\n",
       "29996  21787     C      25\n",
       "29997   5054     C      34\n",
       "29998  10254     C      27\n",
       "29999   5692     C      49\n",
       "\n",
       "[30000 rows x 3 columns]"
      ]
     },
     "execution_count": 3,
     "metadata": {},
     "output_type": "execute_result"
    }
   ],
   "source": [
    "df"
   ]
  },
  {
   "cell_type": "markdown",
   "id": "1ed09d87-c90f-46af-a3ba-feb7aa8ea086",
   "metadata": {},
   "source": [
    "## 0.2 Анализ Дата-фрейма на \"чистоту\" данных"
   ]
  },
  {
   "cell_type": "code",
   "execution_count": 4,
   "id": "1a11ee7c-8ed3-4183-9983-d1026615091c",
   "metadata": {},
   "outputs": [
    {
     "data": {
      "text/html": [
       "<div>\n",
       "<style scoped>\n",
       "    .dataframe tbody tr th:only-of-type {\n",
       "        vertical-align: middle;\n",
       "    }\n",
       "\n",
       "    .dataframe tbody tr th {\n",
       "        vertical-align: top;\n",
       "    }\n",
       "\n",
       "    .dataframe thead th {\n",
       "        text-align: right;\n",
       "    }\n",
       "</style>\n",
       "<table border=\"1\" class=\"dataframe\">\n",
       "  <thead>\n",
       "    <tr style=\"text-align: right;\">\n",
       "      <th></th>\n",
       "      <th>id</th>\n",
       "      <th>group</th>\n",
       "      <th>events</th>\n",
       "    </tr>\n",
       "  </thead>\n",
       "  <tbody>\n",
       "  </tbody>\n",
       "</table>\n",
       "</div>"
      ],
      "text/plain": [
       "Empty DataFrame\n",
       "Columns: [id, group, events]\n",
       "Index: []"
      ]
     },
     "execution_count": 4,
     "metadata": {},
     "output_type": "execute_result"
    }
   ],
   "source": [
    "ids=df['id']\n",
    "df[ids.isin(ids[ids.duplicated()])].sort_values(\"group\")"
   ]
  },
  {
   "cell_type": "markdown",
   "id": "a4b26bfc-418a-41b8-ad8b-0e736773dd1d",
   "metadata": {},
   "source": [
    "Дубликатов нет"
   ]
  },
  {
   "cell_type": "code",
   "execution_count": 5,
   "id": "879c99a9-7ff9-4ba1-bd51-4a6c2813e771",
   "metadata": {},
   "outputs": [
    {
     "data": {
      "text/plain": [
       "id        33\n",
       "group     33\n",
       "events    33\n",
       "dtype: int64"
      ]
     },
     "execution_count": 5,
     "metadata": {},
     "output_type": "execute_result"
    }
   ],
   "source": [
    "df[df['events']<0].count()"
   ]
  },
  {
   "cell_type": "code",
   "execution_count": 6,
   "id": "96c62d3f-7cb6-4eff-97d6-c20ee24051e1",
   "metadata": {},
   "outputs": [
    {
     "data": {
      "text/plain": [
       "array([-3, -2, -6, -5, -1, -4, -7], dtype=int64)"
      ]
     },
     "execution_count": 6,
     "metadata": {},
     "output_type": "execute_result"
    }
   ],
   "source": [
    "df[df['events']<0]['events'].unique()"
   ]
  },
  {
   "cell_type": "markdown",
   "id": "d96daa73-b2c0-40d6-87e5-b2b52c26396d",
   "metadata": {},
   "source": [
    "Очевидно, что количество заказов не может быть отрицательным. \n",
    "Однако, на выборке в 10000 заказов в каждой группе это незначительное отклонение, тем более что значения достаточно близки к 0.\n",
    "\n",
    "### Оставим дата-сет неизмененным"
   ]
  },
  {
   "cell_type": "markdown",
   "id": "b2155c49-8094-40dd-93e9-f5d54c08f404",
   "metadata": {},
   "source": [
    "# 1. Выбор статистического теста"
   ]
  },
  {
   "cell_type": "markdown",
   "id": "a4f21a15-3eab-4ddf-b96b-945984541bc6",
   "metadata": {},
   "source": [
    "### Воспользуемся тестом ANOVA, так как он позволяет сравнить средние значения трех групп\n",
    "- t-тест позволяет сравнить средние только 2х выборок;\n",
    "\n",
    "- хи-квадрат нужен для измерения степени зависимости признаков, что не нужно для моей задачи;\n",
    "\n",
    "- делать вывод **исключительно** по графику - no comments))).\n",
    "\n",
    "\n",
    "**Для реализации ANOVA необходимы:**\n",
    "- равенства дисперсий в группах\n",
    "- нормальность распределения каждой из групп"
   ]
  },
  {
   "cell_type": "markdown",
   "id": "9caeca52-69f4-4335-bd59-78e66e721ce4",
   "metadata": {},
   "source": [
    "# 2. Гипотеза"
   ]
  },
  {
   "cell_type": "markdown",
   "id": "aa0029b7-9b27-4822-9ef4-c8c6d688ae80",
   "metadata": {},
   "source": [
    "**Задача** - сравнить среднее количество заказов при разных разрешениях картинок в меню и определить какое из трех разрешений стимулирует пользователей делать в среднем больше заказов.\n",
    "\n",
    "H0: M[A]=M[B]=M[C].\n",
    "\n",
    "H1: хотя бы одно из равенств H0 неверно."
   ]
  },
  {
   "cell_type": "markdown",
   "id": "3e0469c2-cea0-424c-9c30-966e69cdc2bf",
   "metadata": {},
   "source": [
    "## 2.1 Равны ли дисперсии в выборках"
   ]
  },
  {
   "cell_type": "code",
   "execution_count": 7,
   "id": "c4d6b3af-fbe7-4c5b-8090-bfc143355d1a",
   "metadata": {},
   "outputs": [
    {
     "data": {
      "text/plain": [
       "LeveneResult(statistic=2.2622596339318037, pvalue=0.1041327199523974)"
      ]
     },
     "execution_count": 7,
     "metadata": {},
     "output_type": "execute_result"
    }
   ],
   "source": [
    "a=np.array(df[df['group']=='A']['events'])\n",
    "b=np.array(df[df['group']=='B']['events'])\n",
    "c=np.array(df[df['group']=='C']['events'])\n",
    "\n",
    "scipy.stats.levene(a,b,c)"
   ]
  },
  {
   "cell_type": "markdown",
   "id": "a7a420dc-927e-41cb-a0e6-ddddfcaa1685",
   "metadata": {},
   "source": [
    "Гипотеза о равенстве дисперсий принимается"
   ]
  },
  {
   "cell_type": "markdown",
   "id": "6222fce7-6a03-42f8-9959-df59605cff79",
   "metadata": {},
   "source": [
    "## 2.2 Нормальны ли распределения в выборках"
   ]
  },
  {
   "cell_type": "code",
   "execution_count": 8,
   "id": "a425e2f5-980b-46b9-93b2-eaa2184b5ef1",
   "metadata": {},
   "outputs": [
    {
     "data": {
      "text/plain": [
       "0.3493328906085719"
      ]
     },
     "execution_count": 8,
     "metadata": {},
     "output_type": "execute_result"
    }
   ],
   "source": [
    "scipy.stats.normaltest(a).pvalue"
   ]
  },
  {
   "cell_type": "code",
   "execution_count": 9,
   "id": "c8e61a4b-9cb3-4a81-8ddc-aa4ded3cd270",
   "metadata": {},
   "outputs": [
    {
     "data": {
      "text/plain": [
       "0.6566948749848232"
      ]
     },
     "execution_count": 9,
     "metadata": {},
     "output_type": "execute_result"
    }
   ],
   "source": [
    "scipy.stats.normaltest(b).pvalue"
   ]
  },
  {
   "cell_type": "code",
   "execution_count": 10,
   "id": "82b35110-b9e0-430d-8ced-370014bb015b",
   "metadata": {},
   "outputs": [
    {
     "data": {
      "text/plain": [
       "0.19753037588314626"
      ]
     },
     "execution_count": 10,
     "metadata": {},
     "output_type": "execute_result"
    }
   ],
   "source": [
    "scipy.stats.normaltest(c).pvalue"
   ]
  },
  {
   "cell_type": "code",
   "execution_count": 14,
   "id": "bd39602e-4059-4162-8d20-60dc33b3b142",
   "metadata": {},
   "outputs": [
    {
     "data": {
      "image/png": "[encoded data removed]",
      "text/plain": [
       "<Figure size 640x480 with 1 Axes>"
      ]
     },
     "metadata": {},
     "output_type": "display_data"
    },
    {
     "data": {
      "image/png": "[encoded data removed]",
      "text/plain": [
       "<Figure size 640x480 with 1 Axes>"
      ]
     },
     "metadata": {},
     "output_type": "display_data"
    },
    {
     "data": {
      "image/png": "[encoded data removed]",
      "text/plain": [
       "<Figure size 640x480 with 1 Axes>"
      ]
     },
     "metadata": {},
     "output_type": "display_data"
    }
   ],
   "source": [
    "fig1 = sm1.qqplot(a, line = 's')\n",
    "fig2 = sm1.qqplot(b, line = 's')\n",
    "fig3 = sm1.qqplot(c, line = 's')\n",
    "plt.show()"
   ]
  },
  {
   "cell_type": "markdown",
   "id": "0d1d970d-52e2-4ff2-8fa4-8456f6d2e0bb",
   "metadata": {},
   "source": [
    "### Все 3 гипотезы о нормальности распределений приняты, это же подтверждает qq-plot"
   ]
  },
  {
   "cell_type": "markdown",
   "id": "741b2338-ef4a-4244-a47a-8b9fbe9ad8e0",
   "metadata": {},
   "source": [
    "# 3. ANOVA"
   ]
  },
  {
   "cell_type": "markdown",
   "id": "96643fb1-132d-444d-9cf0-a64d81be0d11",
   "metadata": {},
   "source": [
    "### **Односторонняя**"
   ]
  },
  {
   "cell_type": "code",
   "execution_count": 15,
   "id": "9c57d0c3-7741-40f5-b9e0-8fbe85890070",
   "metadata": {},
   "outputs": [
    {
     "data": {
      "text/plain": [
       "F_onewayResult(statistic=2886.166657438961, pvalue=0.0)"
      ]
     },
     "execution_count": 15,
     "metadata": {},
     "output_type": "execute_result"
    }
   ],
   "source": [
    "scipy.stats.f_oneway(a,b,c)"
   ]
  },
  {
   "cell_type": "markdown",
   "id": "7e8e64ad-1130-4579-acd6-cdb2348c2377",
   "metadata": {},
   "source": [
    "**Гипотеза о равенстве всех трех средних отвергается**"
   ]
  },
  {
   "cell_type": "markdown",
   "id": "b7c0982b-fe18-4b55-85b9-0579c3f01293",
   "metadata": {},
   "source": [
    "### **Двусторонняя**"
   ]
  },
  {
   "cell_type": "code",
   "execution_count": 16,
   "id": "3b518094-ac56-41c2-82b6-c6a284eab7ee",
   "metadata": {},
   "outputs": [
    {
     "name": "stdout",
     "output_type": "stream",
     "text": [
      "Multiple Comparison of Means - Tukey HSD, FWER=0.05 \n",
      "====================================================\n",
      "group1 group2 meandiff p-adj  lower    upper  reject\n",
      "----------------------------------------------------\n",
      "     A      B    8.034   0.0   7.7038  8.3642   True\n",
      "     A      C  -2.1093   0.0  -2.4395 -1.7791   True\n",
      "     B      C -10.1433   0.0 -10.4735 -9.8131   True\n",
      "----------------------------------------------------\n"
     ]
    }
   ],
   "source": [
    "t=sm.stats.multicomp.pairwise_tukeyhsd(endog=df['events'],\n",
    "                                        groups=df['group'],\n",
    "                                        alpha= 0.05)\n",
    "print(t)"
   ]
  },
  {
   "cell_type": "code",
   "execution_count": 19,
   "id": "645963e3-430b-4f71-b0e6-a39b559d24f9",
   "metadata": {},
   "outputs": [
    {
     "data": {
      "text/plain": [
       "(29.5796, 37.6136, 27.4703)"
      ]
     },
     "execution_count": 19,
     "metadata": {},
     "output_type": "execute_result"
    }
   ],
   "source": [
    "a.mean(), b.mean(), c.mean()"
   ]
  },
  {
   "cell_type": "markdown",
   "id": "a1c126e3-03e9-4666-bbde-759eb2d40c3b",
   "metadata": {},
   "source": [
    "# В результате:"
   ]
  },
  {
   "cell_type": "markdown",
   "id": "337ac10a-b864-42b4-9ec9-f2ddc22c3840",
   "metadata": {},
   "source": [
    "Среднее количество заказов для трех групп статистически значимо отличается.\n",
    "При этом, в группе В среднее количество заказов заметно выше по сравнению с остальными группами."
   ]
  }
 ],
 "metadata": {
  "kernelspec": {
   "display_name": "Python 3 (ipykernel)",
   "language": "python",
   "name": "python3"
  },
  "language_info": {
   "codemirror_mode": {
    "name": "ipython",
    "version": 3
   },
   "file_extension": ".py",
   "mimetype": "text/x-python",
   "name": "python",
   "nbconvert_exporter": "python",
   "pygments_lexer": "ipython3",
   "version": "3.12.0"
  }
 },
 "nbformat": 4,
 "nbformat_minor": 5
}
