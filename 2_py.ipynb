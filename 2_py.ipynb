{
 "cells": [
  {
   "cell_type": "markdown",
   "id": "0de2900b-3920-4f47-b595-b4950999518b",
   "metadata": {},
   "source": [
    "# 1."
   ]
  },
  {
   "cell_type": "code",
   "execution_count": 150,
   "id": "fe12fc32-2f0c-4671-9e0f-282908cef378",
   "metadata": {},
   "outputs": [],
   "source": [
    "import sys\n",
    "import numpy as np\n",
    "import jupyterlab\n",
    "import time\n",
    "import random\n",
    "np.set_printoptions(threshold=20)"
   ]
  },
  {
   "cell_type": "markdown",
   "id": "b3e7cc3b-d983-4169-902a-6a03b1499ddd",
   "metadata": {},
   "source": [
    "1. **КЛАССИЧЕСКИЙ ПИТОН**"
   ]
  },
  {
   "cell_type": "code",
   "execution_count": 151,
   "id": "ed840431-3eb8-4b50-b3e3-9d8049148330",
   "metadata": {},
   "outputs": [],
   "source": [
    "t_range = 100000\n",
    "products = ['автомобиль HAVAL', 'обувь', 'одежда', 'телефоны']\n",
    "sales = [random.choices(range(0,101), k=t_range) for _ in range(len(products))]\n",
    "prices = [20000, 3000, 45600, 5000]"
   ]
  },
  {
   "cell_type": "code",
   "execution_count": 152,
   "id": "a542ccff-5c32-4030-8707-3c12b9c66bc7",
   "metadata": {},
   "outputs": [],
   "source": [
    "s = [0,0,0,0]"
   ]
  },
  {
   "cell_type": "code",
   "execution_count": 212,
   "id": "f07a93f9-eb57-499a-8505-4ab201b23145",
   "metadata": {},
   "outputs": [
    {
     "name": "stdout",
     "output_type": "stream",
     "text": [
      "TIME: 0.07873392105102539\n"
     ]
    }
   ],
   "source": [
    "start=time.time()\n",
    "for i in range(len(products)):\n",
    "    for j in range(t_range):\n",
    "        s[i]=s[i]+prices[i]*sales[i][j]\n",
    "end=time.time()\n",
    "print('TIME:', end-start)"
   ]
  },
  {
   "cell_type": "markdown",
   "id": "fd566759-78a1-458f-8f18-139d3cf2c440",
   "metadata": {},
   "source": [
    "Сумма, вырчученная за продажи HAVAL, обуви, одежды и телефонов соответственно:"
   ]
  },
  {
   "cell_type": "code",
   "execution_count": 154,
   "id": "fece74e5-4001-4f62-bddb-cd5866e2306b",
   "metadata": {},
   "outputs": [
    {
     "data": {
      "text/plain": [
       "[100176380000, 14990037000, 228698500800, 25038015000]"
      ]
     },
     "execution_count": 154,
     "metadata": {},
     "output_type": "execute_result"
    }
   ],
   "source": [
    "s"
   ]
  },
  {
   "cell_type": "markdown",
   "id": "b0cc4a94-3ad9-4c6a-948f-7a31b131d983",
   "metadata": {},
   "source": [
    "2. **NUMPY** "
   ]
  },
  {
   "cell_type": "code",
   "execution_count": 155,
   "id": "8c89b42d-8f0e-484c-9407-da0d575b1eb0",
   "metadata": {},
   "outputs": [],
   "source": [
    "products_n = np.array(['автомобиль HAVAL', 'обувь', 'одежда', 'телефоны'])\n",
    "prices_n = np.array([20000, 3000, 45600, 5000])"
   ]
  },
  {
   "cell_type": "code",
   "execution_count": 156,
   "id": "eb6cc34a-9e9e-4360-8eaf-5d14be801c8d",
   "metadata": {},
   "outputs": [
    {
     "data": {
      "text/plain": [
       "array([[  8,  15,  23, ...,  40,  55, 100],\n",
       "       [ 99,  63,  77, ...,  25,  74,  14],\n",
       "       [ 68,  62,  77, ...,  98,  99,  16],\n",
       "       [ 89,   0,  20, ...,  49,  98,  86]], dtype=uint64)"
      ]
     },
     "execution_count": 156,
     "metadata": {},
     "output_type": "execute_result"
    }
   ],
   "source": [
    "sales_n=np.array(sales, dtype=\"uint64\")\n",
    "sales_n"
   ]
  },
  {
   "cell_type": "code",
   "execution_count": 157,
   "id": "a54c03c7-0863-491f-9a50-e88dc40c80db",
   "metadata": {},
   "outputs": [
    {
     "name": "stdout",
     "output_type": "stream",
     "text": [
      "TIME: 0.0009984970092773438\n"
     ]
    }
   ],
   "source": [
    "start=time.time()\n",
    "s_n=sales_n.sum(axis=1)*prices\n",
    "end=time.time()\n",
    "print('TIME:', end-start)"
   ]
  },
  {
   "cell_type": "markdown",
   "id": "d7270fd7-9dee-40eb-9a6d-729e9f3648e8",
   "metadata": {},
   "source": [
    "Сумма, вырчученная за продажи HAVAL, обуви, одежды и телефонов соответственно:"
   ]
  },
  {
   "cell_type": "code",
   "execution_count": 158,
   "id": "05461ea3-4af7-417a-98be-5f9624554559",
   "metadata": {},
   "outputs": [
    {
     "data": {
      "text/plain": [
       "array([1.00176380e+11, 1.49900370e+10, 2.28698501e+11, 2.50380150e+10])"
      ]
     },
     "execution_count": 158,
     "metadata": {},
     "output_type": "execute_result"
    }
   ],
   "source": [
    "s_n"
   ]
  },
  {
   "cell_type": "markdown",
   "id": "9b8689bb-5406-4594-817c-04bd11e1558a",
   "metadata": {},
   "source": [
    "3. **NUMPY  с векторизацией**"
   ]
  },
  {
   "cell_type": "code",
   "execution_count": 211,
   "id": "051b520d-5bc8-46fe-ba09-87ac493164fc",
   "metadata": {},
   "outputs": [
    {
     "name": "stdout",
     "output_type": "stream",
     "text": [
      "100176380000.0\n",
      "14990037000.0\n",
      "228698500800.0\n",
      "25038015000.0\n",
      "TIME: 0.001992940902709961\n"
     ]
    }
   ],
   "source": [
    "s_m=np.zeros((1,t_range), dtype=float)\n",
    "start=time.time()\n",
    "for i in range (len(products)):\n",
    "    print(np.sum(np.multiply(sales_n[i], prices[i], out=s_m)))\n",
    "end=time.time()\n",
    "print('TIME:', end-start)"
   ]
  },
  {
   "cell_type": "markdown",
   "id": "c37b91b6-45b7-4c57-bb41-7c3173f53fb5",
   "metadata": {},
   "source": [
    "#### **ИТОГИ**"
   ]
  },
  {
   "cell_type": "markdown",
   "id": "1cfc0945-c7d7-4ac0-9985-368aca3385f4",
   "metadata": {},
   "source": [
    "В результате все данные подсчетов сошлись.\n",
    "Сравним время выполнения:\n",
    "\n",
    "1. 0,078 секунд\n",
    "2. 0,001 секунда - numpy справился с задачей заметтно быстрее\n",
    "3. 0,002 секунда - моя векторная реализация оказалась медленней встроенных инструментов numpy.\n"
   ]
  },
  {
   "cell_type": "markdown",
   "id": "cdcec56f-5771-45ae-946f-0e8f824890e1",
   "metadata": {},
   "source": [
    "# 2."
   ]
  },
  {
   "cell_type": "markdown",
   "id": "ac08bb43-1941-430d-827e-9931da01b149",
   "metadata": {},
   "source": [
    "1. **NUMPY SORT**"
   ]
  },
  {
   "cell_type": "code",
   "execution_count": 214,
   "id": "1213f6da-185c-4dd5-8151-300446452820",
   "metadata": {},
   "outputs": [
    {
     "data": {
      "text/plain": [
       "array([53, 71, 69, ..., 95, 11, 18])"
      ]
     },
     "execution_count": 214,
     "metadata": {},
     "output_type": "execute_result"
    }
   ],
   "source": [
    "x=np.random.randint(1,101,10000)\n",
    "x"
   ]
  },
  {
   "cell_type": "code",
   "execution_count": 228,
   "id": "c36ea746-00d3-4d79-921c-dbac6095a766",
   "metadata": {},
   "outputs": [
    {
     "name": "stdout",
     "output_type": "stream",
     "text": [
      "605 µs ± 12.5 µs per loop (mean ± std. dev. of 7 runs, 1,000 loops each)\n"
     ]
    }
   ],
   "source": [
    "%%timeit\n",
    "np.sort(x, kind='heapsort')"
   ]
  },
  {
   "cell_type": "code",
   "execution_count": 229,
   "id": "1f5fb910-2908-438a-97cb-4f5a95a124f2",
   "metadata": {},
   "outputs": [
    {
     "name": "stdout",
     "output_type": "stream",
     "text": [
      "[  1   1   1 ... 100 100 100]\n"
     ]
    }
   ],
   "source": [
    "print(np.sort(x, kind='heapsort'))"
   ]
  },
  {
   "cell_type": "markdown",
   "id": "9124b538-1cff-426f-a120-e13e2ae76742",
   "metadata": {},
   "source": [
    "2. **КЛАССИЧЕСКИЙ PYTHON**\n"
   ]
  },
  {
   "cell_type": "code",
   "execution_count": 163,
   "id": "80d7c191-d210-4b37-828b-13c6a0562f29",
   "metadata": {},
   "outputs": [],
   "source": [
    "def heap_data(nums, index, heap_size):\n",
    "    largest_num = index\n",
    "    left_index = 2 * index + 1\n",
    "    right_index = 2 * index + 2\n",
    "    if left_index < heap_size and nums[left_index] > nums[largest_num]:\n",
    "        largest_num = left_index\n",
    "\n",
    "    if right_index < heap_size and nums[right_index] > nums[largest_num]:\n",
    "        largest_num = right_index\n",
    "    if largest_num != index:\n",
    "        nums[largest_num], nums[index] = nums[index], nums[largest_num]\n",
    "        heap_data(nums, largest_num, heap_size)\n",
    "def heap_sort(nums):\n",
    "    n = len(nums)\n",
    "    for i in range(n // 2 - 1, -1, -1):\n",
    "        heap_data(nums, i, n)\n",
    "    for i in range(n - 1, 0, -1):\n",
    "        nums[0], nums[i] = nums[i], nums[0]\n",
    "        heap_data(nums, 0, i)\n",
    "    return nums"
   ]
  },
  {
   "cell_type": "code",
   "execution_count": 164,
   "id": "c84116bc-5003-451b-bdd1-ef171170cceb",
   "metadata": {},
   "outputs": [
    {
     "data": {
      "text/plain": [
       "array([40, 41, 77, ..., 83, 31, 72])"
      ]
     },
     "execution_count": 164,
     "metadata": {},
     "output_type": "execute_result"
    }
   ],
   "source": [
    "x=np.random.randint(1,101,10000)\n",
    "x"
   ]
  },
  {
   "cell_type": "code",
   "execution_count": 165,
   "id": "7c793dec-9ee8-4ed0-a445-b4d4fd9a0f38",
   "metadata": {},
   "outputs": [
    {
     "name": "stdout",
     "output_type": "stream",
     "text": [
      "91.3 ms ± 1.5 ms per loop (mean ± std. dev. of 7 runs, 10 loops each)\n"
     ]
    }
   ],
   "source": [
    "%%timeit\n",
    "heap_sort(x)"
   ]
  },
  {
   "cell_type": "code",
   "execution_count": 166,
   "id": "64885e1d-2b49-4b7b-878f-1c1846c65036",
   "metadata": {},
   "outputs": [
    {
     "data": {
      "text/plain": [
       "array([  1,   1,   1, ..., 100, 100, 100])"
      ]
     },
     "execution_count": 166,
     "metadata": {},
     "output_type": "execute_result"
    }
   ],
   "source": [
    "x"
   ]
  },
  {
   "cell_type": "markdown",
   "id": "f0c8924d-ec05-44df-a16f-a8f304744fea",
   "metadata": {},
   "source": [
    "#### **ИТОГИ**"
   ]
  },
  {
   "cell_type": "markdown",
   "id": "d2eca84c-8fc9-4893-bd38-f539be92dd29",
   "metadata": {},
   "source": [
    "Сортировка numpy - 605 µs = 0.000605 секунд\n",
    "\n",
    "Сортировка классикой - 91.3 мс = 0.0913 секунд"
   ]
  },
  {
   "cell_type": "markdown",
   "id": "0be26d26-fb29-4963-8d8b-132abf4e7551",
   "metadata": {},
   "source": [
    "# 3."
   ]
  },
  {
   "cell_type": "code",
   "execution_count": 167,
   "id": "3f17d819-b832-4bb8-be11-55ef64929a96",
   "metadata": {},
   "outputs": [],
   "source": [
    "data = np.genfromtxt('Z:\\\\WB\\\\2_Py\\\\drinks.csv', delimiter=',', skip_header=1, dtype={\n",
    "        \"names\": [\"country\", \"beer\", \"spirit\", \"wine\", \"total\"],\n",
    "        \"formats\": [\"<S50\", \"<i4\",\"<i4\",\"<i4\",\"<f8\"]\n",
    "    })\n"
   ]
  },
  {
   "cell_type": "markdown",
   "id": "01fed1de-836b-4dff-90d2-5716a88bfabb",
   "metadata": {},
   "source": [
    "Топ-10 стран, пьющих пиво:"
   ]
  },
  {
   "cell_type": "code",
   "execution_count": 230,
   "id": "ca73b4da-33bb-43c1-8a97-3ed36d7ee278",
   "metadata": {},
   "outputs": [
    {
     "data": {
      "text/plain": [
       "array([(b'Namibia', 376), (b'Czech Republic', 361), (b'Gabon', 347),\n",
       "       (b'Germany', 346), (b'Lithuania', 343), (b'Poland', 343),\n",
       "       (b'Venezuela', 333), (b'Ireland', 313), (b'Palau', 306),\n",
       "       (b'Romania', 297)],\n",
       "      dtype={'names': ['country', 'beer'], 'formats': ['S50', '<i4'], 'offsets': [0, 50], 'itemsize': 70})"
      ]
     },
     "execution_count": 230,
     "metadata": {},
     "output_type": "execute_result"
    }
   ],
   "source": [
    "arr_beer=np.sort(data, order = ['beer', 'total'])[::-1]\n",
    "arr_beer[:10][['country', 'beer']]\n"
   ]
  },
  {
   "cell_type": "markdown",
   "id": "2bf6b347-71e6-4758-aa32-71c237ea9811",
   "metadata": {},
   "source": [
    "Топ-10 стран, пьющих вино:"
   ]
  },
  {
   "cell_type": "code",
   "execution_count": 169,
   "id": "bf4333e6-38d9-449c-be7f-735d886c565d",
   "metadata": {},
   "outputs": [
    {
     "data": {
      "text/plain": [
       "array([(b'France', 370), (b'Portugal', 339), (b'Andorra', 312),\n",
       "       (b'Switzerland', 280), (b'Denmark', 278), (b'Slovenia', 276),\n",
       "       (b'Luxembourg', 271), (b'Croatia', 254), (b'Italy', 237),\n",
       "       (b'Equatorial Guinea', 233)],\n",
       "      dtype={'names': ['country', 'wine'], 'formats': ['S50', '<i4'], 'offsets': [0, 58], 'itemsize': 70})"
      ]
     },
     "execution_count": 169,
     "metadata": {},
     "output_type": "execute_result"
    }
   ],
   "source": [
    "arr_wine=np.sort(data, order = ['wine', 'total'])[::-1]\n",
    "arr_wine[:10][['country', 'wine']]"
   ]
  },
  {
   "cell_type": "markdown",
   "id": "3057c1ca-5a60-4083-81b9-f902af1cfd2a",
   "metadata": {},
   "source": [
    "Топ-10 пьющих стран:"
   ]
  },
  {
   "cell_type": "code",
   "execution_count": 170,
   "id": "31b8309d-39fd-45aa-a865-18b5cc1bebce",
   "metadata": {},
   "outputs": [
    {
     "data": {
      "text/plain": [
       "array([(b'Belarus', 14.4), (b'Lithuania', 12.9), (b'Andorra', 12.4),\n",
       "       (b'Grenada', 11.9), (b'France', 11.8), (b'Czech Republic', 11.8),\n",
       "       (b'Russian Federation', 11.5), (b'Slovakia', 11.4),\n",
       "       (b'Luxembourg', 11.4), (b'Ireland', 11.4)],\n",
       "      dtype={'names': ['country', 'total'], 'formats': ['S50', '<f8'], 'offsets': [0, 62], 'itemsize': 70})"
      ]
     },
     "execution_count": 170,
     "metadata": {},
     "output_type": "execute_result"
    }
   ],
   "source": [
    "arr_total=np.sort(data, order = ['total'])[::-1]\n",
    "arr_total[:10][['country', 'total']]"
   ]
  },
  {
   "cell_type": "markdown",
   "id": "a1efd4c8-6440-4453-92a5-bcc097de7ab0",
   "metadata": {},
   "source": [
    "Топ самых трезвых стран:"
   ]
  },
  {
   "cell_type": "code",
   "execution_count": 235,
   "id": "3682a3f9-74f1-40cb-b914-321d9f0fee6f",
   "metadata": {},
   "outputs": [
    {
     "data": {
      "text/plain": [
       "array([(b'Afghanistan',   0,  0, 0, 0.), (b'Bangladesh',   0,  0, 0, 0.),\n",
       "       (b'Iran',   0,  0, 0, 0.), ..., (b'Bahrain',  42, 63, 7, 2.),\n",
       "       (b'Fiji',  77, 35, 1, 2.), (b'Vietnam', 111,  2, 1, 2.)],\n",
       "      dtype=[('country', 'S50'), ('beer', '<i4'), ('spirit', '<i4'), ('wine', '<i4'), ('total', '<f8')])"
      ]
     },
     "execution_count": 235,
     "metadata": {},
     "output_type": "execute_result"
    }
   ],
   "source": [
    "y=(np.sort(data[data['total']<=2], order = ['total']))\n",
    "y"
   ]
  },
  {
   "cell_type": "markdown",
   "id": "b069c243-4f0c-4aa7-87ed-8401d4709119",
   "metadata": {},
   "source": [
    "# **4**"
   ]
  },
  {
   "cell_type": "markdown",
   "id": "d275f9d5-19da-4375-9442-9a52d6909f73",
   "metadata": {},
   "source": [
    "1."
   ]
  },
  {
   "cell_type": "code",
   "execution_count": 173,
   "id": "7dbb39df-606a-40fd-8ff0-4c429e53127a",
   "metadata": {},
   "outputs": [],
   "source": [
    "df = np.genfromtxt('Z:\\\\WB\\\\2_Py\\\\tarantino.csv', delimiter=',', skip_header=1, dtype={\n",
    "        \"names\": [\"movie\", \"type\", \"word\",\t\"minutes_in\"],\n",
    "        \"formats\": [\"<S50\", \"<S50\",\"<S50\",\"<f8\"]\n",
    "    })"
   ]
  },
  {
   "cell_type": "markdown",
   "id": "6ee7ac22-6857-4adf-ae2f-c09aac6bdfa0",
   "metadata": {},
   "source": [
    "#### Заведем df_w, в котором будем хранить только часть df с ругательствами."
   ]
  },
  {
   "cell_type": "code",
   "execution_count": 174,
   "id": "1685d13c-2fa2-4cc7-aff5-5f6efd2b7f4a",
   "metadata": {},
   "outputs": [
    {
     "data": {
      "text/plain": [
       "array([(b'Reservoir Dogs', b'word', b'dick',   0.4 ),\n",
       "       (b'Reservoir Dogs', b'word', b'dicks',   0.43),\n",
       "       (b'Reservoir Dogs', b'word', b'fucked',   0.55), ...,\n",
       "       (b'Jackie Brown', b'word', b'ass', 142.43),\n",
       "       (b'Jackie Brown', b'word', b'fucking', 142.47),\n",
       "       (b'Jackie Brown', b'word', b'goddamn', 142.97)],\n",
       "      dtype=[('movie', 'S50'), ('type', 'S50'), ('word', 'S50'), ('minutes_in', '<f8')])"
      ]
     },
     "execution_count": 174,
     "metadata": {},
     "output_type": "execute_result"
    }
   ],
   "source": [
    "df_w = df[df['type']== b'word']\n",
    "df_w"
   ]
  },
  {
   "cell_type": "markdown",
   "id": "166b725b-5dc0-4c43-89bb-64aa5d56a675",
   "metadata": {},
   "source": [
    "#### Заведем df_d, в котором будем хранить только часть df с кровопролитием."
   ]
  },
  {
   "cell_type": "code",
   "execution_count": 175,
   "id": "e19347dd-bf31-4af0-8812-8987969a3195",
   "metadata": {},
   "outputs": [
    {
     "data": {
      "text/plain": [
       "array([(b'Reservoir Dogs', b'death', b'',  59.93),\n",
       "       (b'Reservoir Dogs', b'death', b'',  85.58),\n",
       "       (b'Reservoir Dogs', b'death', b'',  85.58), ...,\n",
       "       (b'Jackie Brown', b'death', b'', 113.28),\n",
       "       (b'Jackie Brown', b'death', b'', 125.43),\n",
       "       (b'Jackie Brown', b'death', b'', 143.13)],\n",
       "      dtype=[('movie', 'S50'), ('type', 'S50'), ('word', 'S50'), ('minutes_in', '<f8')])"
      ]
     },
     "execution_count": 175,
     "metadata": {},
     "output_type": "execute_result"
    }
   ],
   "source": [
    "df_d = df[df['word']== b'']\n",
    "df_d"
   ]
  },
  {
   "cell_type": "markdown",
   "id": "8a84bf80-e98e-4b0d-8163-0f4fd1d1c569",
   "metadata": {},
   "source": [
    "#### Зведем массив movies со всеми названиями фильмов."
   ]
  },
  {
   "cell_type": "code",
   "execution_count": 176,
   "id": "5e7ad7ba-2145-4d64-88d0-fd5e2fd73532",
   "metadata": {},
   "outputs": [
    {
     "data": {
      "text/plain": [
       "array([b'Django Unchained', b'Inglorious Basterds', b'Jackie Brown',\n",
       "       b'Kill Bill: Vol. 1', b'Kill Bill: Vol. 2', b'Pulp Fiction',\n",
       "       b'Reservoir Dogs'], dtype='|S50')"
      ]
     },
     "execution_count": 176,
     "metadata": {},
     "output_type": "execute_result"
    }
   ],
   "source": [
    "movies = np.unique(df['movie'])\n",
    "movies"
   ]
  },
  {
   "cell_type": "markdown",
   "id": "13391220-7c8a-40f5-bd3a-a1191835f509",
   "metadata": {},
   "source": [
    "#### ... и всеми ругательствами."
   ]
  },
  {
   "cell_type": "code",
   "execution_count": 177,
   "id": "97ec4a18-8fe5-431b-bb65-3586a71ff6a0",
   "metadata": {},
   "outputs": [
    {
     "data": {
      "text/plain": [
       "array([b'ass', b'asses', b'asshead', ..., b'slut', b'squaw', b'wetback'],\n",
       "      dtype='|S50')"
      ]
     },
     "execution_count": 177,
     "metadata": {},
     "output_type": "execute_result"
    }
   ],
   "source": [
    "swr = np.unique(df_w['word'])\n",
    "swr"
   ]
  },
  {
   "cell_type": "markdown",
   "id": "3f7d19be-c2e3-44f8-99a5-4c39c4339525",
   "metadata": {},
   "source": [
    "#### Посчитаем, сколько ругательств и кровопролитий в базе:"
   ]
  },
  {
   "cell_type": "code",
   "execution_count": 179,
   "id": "7a04c19d-76e4-41bb-abe0-e14f2c65427d",
   "metadata": {},
   "outputs": [
    {
     "data": {
      "text/plain": [
       "1704"
      ]
     },
     "execution_count": 179,
     "metadata": {},
     "output_type": "execute_result"
    }
   ],
   "source": [
    "np.count_nonzero(df['word'])"
   ]
  },
  {
   "cell_type": "code",
   "execution_count": 238,
   "id": "263983e8-2e60-4e74-b030-7890940fc913",
   "metadata": {},
   "outputs": [
    {
     "data": {
      "text/plain": [
       "190"
      ]
     },
     "execution_count": 238,
     "metadata": {},
     "output_type": "execute_result"
    }
   ],
   "source": [
    "np.count_nonzero(df)-np.count_nonzero(df['word'])"
   ]
  },
  {
   "cell_type": "markdown",
   "id": "fc30a693-28a8-43dc-a28a-bcf18ee11ab8",
   "metadata": {},
   "source": [
    "#### Выведем количество ругательст и кровопролитий в каждом фильме:"
   ]
  },
  {
   "cell_type": "code",
   "execution_count": 240,
   "id": "4f4f50da-9782-4cff-8a16-722c80000b0c",
   "metadata": {},
   "outputs": [
    {
     "name": "stdout",
     "output_type": "stream",
     "text": [
      "b'Django Unchained' ------- 262 ------- 15.375586854460094\n",
      "b'Inglorious Basterds' ------- 58 ------- 3.403755868544601\n",
      "b'Jackie Brown' ------- 368 ------- 21.5962441314554\n",
      "b'Kill Bill: Vol. 1' ------- 57 ------- 3.3450704225352115\n",
      "b'Kill Bill: Vol. 2' ------- 69 ------- 4.049295774647887\n",
      "b'Pulp Fiction' ------- 469 ------- 27.523474178403756\n",
      "b'Reservoir Dogs' ------- 421 ------- 24.706572769953052\n"
     ]
    }
   ],
   "source": [
    "for i in range (len(movies)):\n",
    "    print(movies[i], '-------',\n",
    "          np.count_nonzero(df_w ['movie']==movies[i]), '-------', \n",
    "          100*np.count_nonzero(df_w ['movie']==movies[i])/np.count_nonzero(df['word']))  "
   ]
  },
  {
   "cell_type": "code",
   "execution_count": 241,
   "id": "68fe9a74-e939-4585-b06a-f151d18b2066",
   "metadata": {},
   "outputs": [
    {
     "name": "stdout",
     "output_type": "stream",
     "text": [
      "b'Django Unchained' ------- 47 ------- 24.736842105263158\n",
      "b'Inglorious Basterds' ------- 48 ------- 25.263157894736842\n",
      "b'Jackie Brown' ------- 4 ------- 2.1052631578947367\n",
      "b'Kill Bill: Vol. 1' ------- 63 ------- 33.1578947368421\n",
      "b'Kill Bill: Vol. 2' ------- 11 ------- 5.7894736842105265\n",
      "b'Pulp Fiction' ------- 7 ------- 3.6842105263157894\n",
      "b'Reservoir Dogs' ------- 10 ------- 5.2631578947368425\n"
     ]
    }
   ],
   "source": [
    "for i in range (len(movies)):\n",
    "    print(movies[i], '-------',\n",
    "          np.count_nonzero(df_d ['movie']==movies[i]), '-------',\n",
    "          100*np.count_nonzero(df_d ['movie']==movies[i])/(np.count_nonzero(df)-np.count_nonzero(df['word'])))"
   ]
  },
  {
   "cell_type": "markdown",
   "id": "4f32e40a-e0bf-46e6-b123-f4eeae32d0a9",
   "metadata": {},
   "source": [
    "2."
   ]
  },
  {
   "cell_type": "markdown",
   "id": "902c0f8e-cfd3-4c86-88a8-67c542accdef",
   "metadata": {},
   "source": [
    "#### Выведем количество ругательств в каждом фильме:"
   ]
  },
  {
   "cell_type": "code",
   "execution_count": 242,
   "id": "87fbf5f1-883d-4edd-8f05-88ea506e1187",
   "metadata": {},
   "outputs": [
    {
     "name": "stdout",
     "output_type": "stream",
     "text": [
      "b'ass' ------- 140 ------- 8.215962441314554\n",
      "b'asses' ------- 4 ------- 0.2347417840375587\n",
      "b'asshead' ------- 1 ------- 0.05868544600938967\n",
      "b'asshole' ------- 10 ------- 0.5868544600938967\n",
      "b'assholes' ------- 5 ------- 0.2934272300469484\n",
      "b'bastard' ------- 10 ------- 0.5868544600938967\n",
      "b'bastards' ------- 1 ------- 0.05868544600938967\n",
      "b'bitch' ------- 64 ------- 3.755868544600939\n",
      "b'bitches' ------- 9 ------- 0.528169014084507\n",
      "b'bullshit' ------- 15 ------- 0.8802816901408451\n",
      "b'chickenshit' ------- 1 ------- 0.05868544600938967\n",
      "b'cockblockery' ------- 1 ------- 0.05868544600938967\n",
      "b'cocksucker' ------- 2 ------- 0.11737089201877934\n",
      "b'cunt' ------- 2 ------- 0.11737089201877934\n",
      "b'cunts' ------- 1 ------- 0.05868544600938967\n",
      "b'damn' ------- 37 ------- 2.171361502347418\n",
      "b'damned' ------- 3 ------- 0.176056338028169\n",
      "b'dick' ------- 14 ------- 0.8215962441314554\n",
      "b'dickless' ------- 1 ------- 0.05868544600938967\n",
      "b'dicks' ------- 5 ------- 0.2934272300469484\n",
      "b'dumbass' ------- 1 ------- 0.05868544600938967\n",
      "b'faggot' ------- 1 ------- 0.05868544600938967\n",
      "b'fuck' ------- 213 ------- 12.5\n",
      "b'fucked' ------- 25 ------- 1.4671361502347418\n",
      "b'fucker' ------- 8 ------- 0.4694835680751174\n",
      "b'fuckers' ------- 1 ------- 0.05868544600938967\n",
      "b'fuckface' ------- 1 ------- 0.05868544600938967\n",
      "b'fuckhead' ------- 1 ------- 0.05868544600938967\n",
      "b'fucking' ------- 407 ------- 23.884976525821596\n",
      "b'fucks' ------- 3 ------- 0.176056338028169\n",
      "b'fuckup' ------- 1 ------- 0.05868544600938967\n",
      "b'goddamn' ------- 113 ------- 6.631455399061033\n",
      "b'goddamned' ------- 1 ------- 0.05868544600938967\n",
      "b'gook' ------- 1 ------- 0.05868544600938967\n",
      "b'gooks' ------- 2 ------- 0.11737089201877934\n",
      "b'hell' ------- 45 ------- 2.640845070422535\n",
      "b'horeshit' ------- 1 ------- 0.05868544600938967\n",
      "b'horseshit' ------- 2 ------- 0.11737089201877934\n",
      "b'jackass' ------- 1 ------- 0.05868544600938967\n",
      "b'jap' ------- 1 ------- 0.05868544600938967\n",
      "b'japs' ------- 2 ------- 0.11737089201877934\n",
      "b'jew (verb)' ------- 1 ------- 0.05868544600938967\n",
      "b'merde' ------- 1 ------- 0.05868544600938967\n",
      "b'motherfucker' ------- 70 ------- 4.107981220657277\n",
      "b'motherfuckers' ------- 15 ------- 0.8802816901408451\n",
      "b'motherfucking' ------- 27 ------- 1.5845070422535212\n",
      "b'n-word ' ------- 179 ------- 10.504694835680752\n",
      "b'negro ' ------- 5 ------- 0.2934272300469484\n",
      "b'pussy' ------- 11 ------- 0.6455399061032864\n",
      "b'shit' ------- 221 ------- 12.969483568075118\n",
      "b'shithead' ------- 3 ------- 0.176056338028169\n",
      "b'shitless' ------- 1 ------- 0.05868544600938967\n",
      "b'shitload' ------- 2 ------- 0.11737089201877934\n",
      "b'shittiest' ------- 1 ------- 0.05868544600938967\n",
      "b'shitting' ------- 1 ------- 0.05868544600938967\n",
      "b'shitty' ------- 4 ------- 0.2347417840375587\n",
      "b'slope' ------- 1 ------- 0.05868544600938967\n",
      "b'slut' ------- 1 ------- 0.05868544600938967\n",
      "b'squaw' ------- 1 ------- 0.05868544600938967\n",
      "b'wetback' ------- 2 ------- 0.11737089201877934\n"
     ]
    }
   ],
   "source": [
    "for i in range (len(swr)):\n",
    "    print(swr[i], '-------',\n",
    "          np.count_nonzero(df_w ['word']==swr[i]), '-------',\n",
    "          100*np.count_nonzero(df_w ['word']==swr[i])/np.count_nonzero(df['word']))  "
   ]
  },
  {
   "cell_type": "markdown",
   "id": "0dc1d01c-831e-41f3-8cc1-e9bc94213803",
   "metadata": {},
   "source": [
    "3."
   ]
  },
  {
   "cell_type": "code",
   "execution_count": 185,
   "id": "a40232e6-2254-4564-95b9-5831bd2da500",
   "metadata": {},
   "outputs": [
    {
     "data": {
      "text/plain": [
       "array([('', '', 0.), ('', '', 0.), ('', '', 0.), ..., ('', '', 0.),\n",
       "       ('', '', 0.), ('', '', 0.)],\n",
       "      dtype=[('movie', '<U16'), ('word', '<U16'), ('minutes_in', '<f8')])"
      ]
     },
     "execution_count": 185,
     "metadata": {},
     "output_type": "execute_result"
    }
   ],
   "source": [
    "df_w_ = np.zeros(\n",
    "    np.count_nonzero(df_w),\n",
    "    dtype={\n",
    "        \"names\": [\"movie\", \"word\", \"minutes_in\"],\n",
    "        \"formats\": [\"U16\", \"U16\", \"f8\"]\n",
    "    }\n",
    ")\n",
    "df_w_"
   ]
  },
  {
   "cell_type": "code",
   "execution_count": 197,
   "id": "f9d56502-6152-4b09-ad2c-5751e0dbb89f",
   "metadata": {},
   "outputs": [
    {
     "data": {
      "text/plain": [
       "array([('Reservoir Dogs', 'dick',   0.4 ),\n",
       "       ('Reservoir Dogs', 'dicks',   0.43),\n",
       "       ('Reservoir Dogs', 'fucked',   0.55), ...,\n",
       "       ('Jackie Brown', 'ass', 142.43),\n",
       "       ('Jackie Brown', 'fucking', 142.47),\n",
       "       ('Jackie Brown', 'goddamn', 142.97)],\n",
       "      dtype=[('movie', '<U16'), ('word', '<U16'), ('minutes_in', '<f8')])"
      ]
     },
     "execution_count": 197,
     "metadata": {},
     "output_type": "execute_result"
    }
   ],
   "source": [
    "df_w_[\"movie\"] = df_w[\"movie\"]\n",
    "df_w_[\"word\"] = df_w[\"word\"]\n",
    "df_w_[\"minutes_in\"] = df[df[\"type\"]==b'word'][\"minutes_in\"]\n",
    "\n",
    "df_w_"
   ]
  },
  {
   "cell_type": "markdown",
   "id": "0f4d0dcb-902a-4faa-b36d-177d72e1ede2",
   "metadata": {},
   "source": [
    "#### Вычтем из столбца с таймкодами ругательств его же, но сдвинутыый на 1 позицию"
   ]
  },
  {
   "cell_type": "code",
   "execution_count": 198,
   "id": "3e1dd2a8-18bc-4e15-a018-edee3b07a1cd",
   "metadata": {},
   "outputs": [
    {
     "data": {
      "text/plain": [
       "array([0.03, 0.12, 0.06, ..., 0.5 , 0.04, 0.5 ])"
      ]
     },
     "execution_count": 198,
     "metadata": {},
     "output_type": "execute_result"
    }
   ],
   "source": [
    "diff=np.zeros(len(df_w))\n",
    "diff=df_w_[\"minutes_in\"][1::]-df_w_[\"minutes_in\"][:-1:]\n",
    "diff"
   ]
  },
  {
   "cell_type": "code",
   "execution_count": 199,
   "id": "e3f399d6-0d26-4ce8-ba32-825843464c2f",
   "metadata": {},
   "outputs": [
    {
     "data": {
      "text/plain": [
       "array([0.4 , 0.03, 0.12, ..., 0.5 , 0.04, 0.5 ])"
      ]
     },
     "execution_count": 199,
     "metadata": {},
     "output_type": "execute_result"
    }
   ],
   "source": [
    "diff=np.insert(diff, 0, df_w_[\"minutes_in\"][0])\n",
    "diff"
   ]
  },
  {
   "cell_type": "code",
   "execution_count": 200,
   "id": "f8867d66-96e9-4b73-b379-2db38d82eb27",
   "metadata": {},
   "outputs": [
    {
     "data": {
      "text/plain": [
       "array([('Reservoir Dogs', 0.4 ), ('Reservoir Dogs', 0.03),\n",
       "       ('Reservoir Dogs', 0.12), ..., ('Jackie Brown', 0.5 ),\n",
       "       ('Jackie Brown', 0.04), ('Jackie Brown', 0.5 )],\n",
       "      dtype={'names': ['movie', 'minutes_in'], 'formats': ['<U16', '<f8'], 'offsets': [0, 128], 'itemsize': 136})"
      ]
     },
     "execution_count": 200,
     "metadata": {},
     "output_type": "execute_result"
    }
   ],
   "source": [
    "df_w_[\"minutes_in\"]=diff\n",
    "df_w_[[\"movie\",\"minutes_in\"]]"
   ]
  },
  {
   "cell_type": "markdown",
   "id": "da2f3f52-ebbb-4e37-acfe-cd7390d5462c",
   "metadata": {},
   "source": [
    "#### Какой процент ругательств нужно ждать более минуты"
   ]
  },
  {
   "cell_type": "code",
   "execution_count": 209,
   "id": "f186463b-af9b-44ca-894c-72e2c049c04f",
   "metadata": {},
   "outputs": [
    {
     "data": {
      "text/plain": [
       "11.150234741784038"
      ]
     },
     "execution_count": 209,
     "metadata": {},
     "output_type": "execute_result"
    }
   ],
   "source": [
    "100*np.count_nonzero(df_w_[\"minutes_in\"]>1)/np.count_nonzero(df_w_)\n"
   ]
  },
  {
   "cell_type": "markdown",
   "id": "f2d94b76-405e-4702-9c55-277f83b68bcd",
   "metadata": {},
   "source": [
    "#### ...более 5 минут"
   ]
  },
  {
   "cell_type": "code",
   "execution_count": 210,
   "id": "eb880f3e-cb9b-460d-ad44-a1c7eeb0c16f",
   "metadata": {},
   "outputs": [
    {
     "data": {
      "text/plain": [
       "1.2910798122065728"
      ]
     },
     "execution_count": 210,
     "metadata": {},
     "output_type": "execute_result"
    }
   ],
   "source": [
    "100*np.count_nonzero(df_w_[\"minutes_in\"]>5)/np.count_nonzero(df_w_)\n"
   ]
  },
  {
   "cell_type": "markdown",
   "id": "22cc572b-ecf5-4874-ab3d-55d034ad6b96",
   "metadata": {},
   "source": [
    "#### Какое ругательство приходится ждать дольше всего и в каком фильме"
   ]
  },
  {
   "cell_type": "code",
   "execution_count": 245,
   "id": "436a1d0c-c05e-4d65-96f6-69f35976f642",
   "metadata": {},
   "outputs": [
    {
     "data": {
      "text/plain": [
       "array([('Kill Bill: Vol. ', 'fucking', 16.72)],\n",
       "      dtype=[('movie', '<U16'), ('word', '<U16'), ('minutes_in', '<f8')])"
      ]
     },
     "execution_count": 245,
     "metadata": {},
     "output_type": "execute_result"
    }
   ],
   "source": [
    "df_w_[df_w_[\"minutes_in\"]==np.max(df_w_[\"minutes_in\"])]"
   ]
  }
 ],
 "metadata": {
  "kernelspec": {
   "display_name": "Python 3 (ipykernel)",
   "language": "python",
   "name": "python3"
  },
  "language_info": {
   "codemirror_mode": {
    "name": "ipython",
    "version": 3
   },
   "file_extension": ".py",
   "mimetype": "text/x-python",
   "name": "python",
   "nbconvert_exporter": "python",
   "pygments_lexer": "ipython3",
   "version": "3.12.0"
  }
 },
 "nbformat": 4,
 "nbformat_minor": 5
}
